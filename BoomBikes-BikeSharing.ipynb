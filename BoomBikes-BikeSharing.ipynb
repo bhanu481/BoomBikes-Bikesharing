{
 "cells": [
  {
   "cell_type": "markdown",
   "id": "cf7f144e",
   "metadata": {},
   "source": [
    "# BoomBikes - Bikesharing:\n",
    "### Probem statement:\n",
    "\n",
    "BoomBikes is a provider for Bike-sharing in US, wants to predict and understand the demand for shared bikes among the people after COVID-19 pandemic, to improve revenue based on factors which affecting demand for shared bikes in American market.\n",
    " - Which variables are significant in predicting the demand for shared bikes.\n",
    " - How well those variables describe the bike demands\n",
    " \n",
    "### Business Goal:\n",
    "Model the demand for shared bikes with the available independent variables. It will be used by the management to understand how exactly the demands vary with different features. They can accordingly manipulate the business strategy to meet the demand levels and meet the customer's expectations.\n",
    "\n",
    "### Steps:\n",
    "  (1) Data loading.<br>\n",
    "  (2) Data cleaning.<br>\n",
    "  (3) Data analysis and manipulations.<br>\n",
    "  (4) Data split in Train,test.<br>\n",
    "  (5) Scalliing train data.<br>\n",
    "  (6) Feature selection<br>\n",
    "  (7) Model training.<br>\n",
    "  (8) Analyzing model parameters.<br>\n",
    "  (9) Analizing assumptions.<br>\n",
    "  (10) Scalling test dataset.<br>\n",
    "  (11) Prediction on test set.<br>\n",
    "  (12) Analyzing predictions.<br>"
   ]
  },
  {
   "cell_type": "code",
   "execution_count": 1,
   "id": "deb85a47",
   "metadata": {},
   "outputs": [],
   "source": [
    "# Importing nessasary python libraries\n",
    "# importing basic libraries for data reading and analysis\n",
    "import numpy as np\n",
    "import pandas as pd\n",
    "import matplotlib.pyplot as plt\n",
    "import seaborn as sns\n",
    "import math\n",
    "# Importing libraries for model devolopment\n",
    "from sklearn.model_selection import train_test_split\n",
    "from sklearn.preprocessing import MinMaxScaler\n",
    "import statsmodels.api as sm\n",
    "from statsmodels.stats.outliers_influence import variance_inflation_factor\n",
    "from sklearn.feature_selection import RFE\n",
    "from sklearn.linear_model import LinearRegression\n",
    "from sklearn.metrics import r2_score\n",
    "# Ignore warnings\n",
    "import warnings\n",
    "warnings.filterwarnings('ignore')"
   ]
  },
  {
   "cell_type": "markdown",
   "id": "1805bd4b",
   "metadata": {},
   "source": [
    "## Data loading:"
   ]
  },
  {
   "cell_type": "code",
   "execution_count": 2,
   "id": "773c98dc",
   "metadata": {},
   "outputs": [
    {
     "data": {
      "text/html": [
       "<div>\n",
       "<style scoped>\n",
       "    .dataframe tbody tr th:only-of-type {\n",
       "        vertical-align: middle;\n",
       "    }\n",
       "\n",
       "    .dataframe tbody tr th {\n",
       "        vertical-align: top;\n",
       "    }\n",
       "\n",
       "    .dataframe thead th {\n",
       "        text-align: right;\n",
       "    }\n",
       "</style>\n",
       "<table border=\"1\" class=\"dataframe\">\n",
       "  <thead>\n",
       "    <tr style=\"text-align: right;\">\n",
       "      <th></th>\n",
       "      <th>instant</th>\n",
       "      <th>dteday</th>\n",
       "      <th>season</th>\n",
       "      <th>yr</th>\n",
       "      <th>mnth</th>\n",
       "      <th>holiday</th>\n",
       "      <th>weekday</th>\n",
       "      <th>workingday</th>\n",
       "      <th>weathersit</th>\n",
       "      <th>temp</th>\n",
       "      <th>atemp</th>\n",
       "      <th>hum</th>\n",
       "      <th>windspeed</th>\n",
       "      <th>casual</th>\n",
       "      <th>registered</th>\n",
       "      <th>cnt</th>\n",
       "    </tr>\n",
       "  </thead>\n",
       "  <tbody>\n",
       "    <tr>\n",
       "      <th>0</th>\n",
       "      <td>1</td>\n",
       "      <td>01-01-2018</td>\n",
       "      <td>1</td>\n",
       "      <td>0</td>\n",
       "      <td>1</td>\n",
       "      <td>0</td>\n",
       "      <td>6</td>\n",
       "      <td>0</td>\n",
       "      <td>2</td>\n",
       "      <td>14.110847</td>\n",
       "      <td>18.18125</td>\n",
       "      <td>80.5833</td>\n",
       "      <td>10.749882</td>\n",
       "      <td>331</td>\n",
       "      <td>654</td>\n",
       "      <td>985</td>\n",
       "    </tr>\n",
       "    <tr>\n",
       "      <th>1</th>\n",
       "      <td>2</td>\n",
       "      <td>02-01-2018</td>\n",
       "      <td>1</td>\n",
       "      <td>0</td>\n",
       "      <td>1</td>\n",
       "      <td>0</td>\n",
       "      <td>0</td>\n",
       "      <td>0</td>\n",
       "      <td>2</td>\n",
       "      <td>14.902598</td>\n",
       "      <td>17.68695</td>\n",
       "      <td>69.6087</td>\n",
       "      <td>16.652113</td>\n",
       "      <td>131</td>\n",
       "      <td>670</td>\n",
       "      <td>801</td>\n",
       "    </tr>\n",
       "    <tr>\n",
       "      <th>2</th>\n",
       "      <td>3</td>\n",
       "      <td>03-01-2018</td>\n",
       "      <td>1</td>\n",
       "      <td>0</td>\n",
       "      <td>1</td>\n",
       "      <td>0</td>\n",
       "      <td>1</td>\n",
       "      <td>1</td>\n",
       "      <td>1</td>\n",
       "      <td>8.050924</td>\n",
       "      <td>9.47025</td>\n",
       "      <td>43.7273</td>\n",
       "      <td>16.636703</td>\n",
       "      <td>120</td>\n",
       "      <td>1229</td>\n",
       "      <td>1349</td>\n",
       "    </tr>\n",
       "    <tr>\n",
       "      <th>3</th>\n",
       "      <td>4</td>\n",
       "      <td>04-01-2018</td>\n",
       "      <td>1</td>\n",
       "      <td>0</td>\n",
       "      <td>1</td>\n",
       "      <td>0</td>\n",
       "      <td>2</td>\n",
       "      <td>1</td>\n",
       "      <td>1</td>\n",
       "      <td>8.200000</td>\n",
       "      <td>10.60610</td>\n",
       "      <td>59.0435</td>\n",
       "      <td>10.739832</td>\n",
       "      <td>108</td>\n",
       "      <td>1454</td>\n",
       "      <td>1562</td>\n",
       "    </tr>\n",
       "    <tr>\n",
       "      <th>4</th>\n",
       "      <td>5</td>\n",
       "      <td>05-01-2018</td>\n",
       "      <td>1</td>\n",
       "      <td>0</td>\n",
       "      <td>1</td>\n",
       "      <td>0</td>\n",
       "      <td>3</td>\n",
       "      <td>1</td>\n",
       "      <td>1</td>\n",
       "      <td>9.305237</td>\n",
       "      <td>11.46350</td>\n",
       "      <td>43.6957</td>\n",
       "      <td>12.522300</td>\n",
       "      <td>82</td>\n",
       "      <td>1518</td>\n",
       "      <td>1600</td>\n",
       "    </tr>\n",
       "  </tbody>\n",
       "</table>\n",
       "</div>"
      ],
      "text/plain": [
       "   instant      dteday  season  yr  mnth  holiday  weekday  workingday  \\\n",
       "0        1  01-01-2018       1   0     1        0        6           0   \n",
       "1        2  02-01-2018       1   0     1        0        0           0   \n",
       "2        3  03-01-2018       1   0     1        0        1           1   \n",
       "3        4  04-01-2018       1   0     1        0        2           1   \n",
       "4        5  05-01-2018       1   0     1        0        3           1   \n",
       "\n",
       "   weathersit       temp     atemp      hum  windspeed  casual  registered  \\\n",
       "0           2  14.110847  18.18125  80.5833  10.749882     331         654   \n",
       "1           2  14.902598  17.68695  69.6087  16.652113     131         670   \n",
       "2           1   8.050924   9.47025  43.7273  16.636703     120        1229   \n",
       "3           1   8.200000  10.60610  59.0435  10.739832     108        1454   \n",
       "4           1   9.305237  11.46350  43.6957  12.522300      82        1518   \n",
       "\n",
       "    cnt  \n",
       "0   985  \n",
       "1   801  \n",
       "2  1349  \n",
       "3  1562  \n",
       "4  1600  "
      ]
     },
     "execution_count": 2,
     "metadata": {},
     "output_type": "execute_result"
    }
   ],
   "source": [
    "df_sharing = pd.read_csv(\"day.csv\")\n",
    "df_sharing.head()"
   ]
  },
  {
   "cell_type": "code",
   "execution_count": 3,
   "id": "c1b8b329",
   "metadata": {},
   "outputs": [
    {
     "name": "stdout",
     "output_type": "stream",
     "text": [
      "<class 'pandas.core.frame.DataFrame'>\n",
      "RangeIndex: 730 entries, 0 to 729\n",
      "Data columns (total 16 columns):\n",
      " #   Column      Non-Null Count  Dtype  \n",
      "---  ------      --------------  -----  \n",
      " 0   instant     730 non-null    int64  \n",
      " 1   dteday      730 non-null    object \n",
      " 2   season      730 non-null    int64  \n",
      " 3   yr          730 non-null    int64  \n",
      " 4   mnth        730 non-null    int64  \n",
      " 5   holiday     730 non-null    int64  \n",
      " 6   weekday     730 non-null    int64  \n",
      " 7   workingday  730 non-null    int64  \n",
      " 8   weathersit  730 non-null    int64  \n",
      " 9   temp        730 non-null    float64\n",
      " 10  atemp       730 non-null    float64\n",
      " 11  hum         730 non-null    float64\n",
      " 12  windspeed   730 non-null    float64\n",
      " 13  casual      730 non-null    int64  \n",
      " 14  registered  730 non-null    int64  \n",
      " 15  cnt         730 non-null    int64  \n",
      "dtypes: float64(4), int64(11), object(1)\n",
      "memory usage: 91.4+ KB\n"
     ]
    }
   ],
   "source": [
    "df_sharing.info()"
   ]
  },
  {
   "cell_type": "code",
   "execution_count": 4,
   "id": "d87527cd",
   "metadata": {},
   "outputs": [
    {
     "data": {
      "text/html": [
       "<div>\n",
       "<style scoped>\n",
       "    .dataframe tbody tr th:only-of-type {\n",
       "        vertical-align: middle;\n",
       "    }\n",
       "\n",
       "    .dataframe tbody tr th {\n",
       "        vertical-align: top;\n",
       "    }\n",
       "\n",
       "    .dataframe thead th {\n",
       "        text-align: right;\n",
       "    }\n",
       "</style>\n",
       "<table border=\"1\" class=\"dataframe\">\n",
       "  <thead>\n",
       "    <tr style=\"text-align: right;\">\n",
       "      <th></th>\n",
       "      <th>instant</th>\n",
       "      <th>season</th>\n",
       "      <th>yr</th>\n",
       "      <th>mnth</th>\n",
       "      <th>holiday</th>\n",
       "      <th>weekday</th>\n",
       "      <th>workingday</th>\n",
       "      <th>weathersit</th>\n",
       "      <th>temp</th>\n",
       "      <th>atemp</th>\n",
       "      <th>hum</th>\n",
       "      <th>windspeed</th>\n",
       "      <th>casual</th>\n",
       "      <th>registered</th>\n",
       "      <th>cnt</th>\n",
       "    </tr>\n",
       "  </thead>\n",
       "  <tbody>\n",
       "    <tr>\n",
       "      <th>count</th>\n",
       "      <td>730.000000</td>\n",
       "      <td>730.000000</td>\n",
       "      <td>730.000000</td>\n",
       "      <td>730.000000</td>\n",
       "      <td>730.000000</td>\n",
       "      <td>730.000000</td>\n",
       "      <td>730.000000</td>\n",
       "      <td>730.000000</td>\n",
       "      <td>730.000000</td>\n",
       "      <td>730.000000</td>\n",
       "      <td>730.000000</td>\n",
       "      <td>730.000000</td>\n",
       "      <td>730.000000</td>\n",
       "      <td>730.000000</td>\n",
       "      <td>730.000000</td>\n",
       "    </tr>\n",
       "    <tr>\n",
       "      <th>mean</th>\n",
       "      <td>365.500000</td>\n",
       "      <td>2.498630</td>\n",
       "      <td>0.500000</td>\n",
       "      <td>6.526027</td>\n",
       "      <td>0.028767</td>\n",
       "      <td>2.997260</td>\n",
       "      <td>0.683562</td>\n",
       "      <td>1.394521</td>\n",
       "      <td>20.319259</td>\n",
       "      <td>23.726322</td>\n",
       "      <td>62.765175</td>\n",
       "      <td>12.763620</td>\n",
       "      <td>849.249315</td>\n",
       "      <td>3658.757534</td>\n",
       "      <td>4508.006849</td>\n",
       "    </tr>\n",
       "    <tr>\n",
       "      <th>std</th>\n",
       "      <td>210.877136</td>\n",
       "      <td>1.110184</td>\n",
       "      <td>0.500343</td>\n",
       "      <td>3.450215</td>\n",
       "      <td>0.167266</td>\n",
       "      <td>2.006161</td>\n",
       "      <td>0.465405</td>\n",
       "      <td>0.544807</td>\n",
       "      <td>7.506729</td>\n",
       "      <td>8.150308</td>\n",
       "      <td>14.237589</td>\n",
       "      <td>5.195841</td>\n",
       "      <td>686.479875</td>\n",
       "      <td>1559.758728</td>\n",
       "      <td>1936.011647</td>\n",
       "    </tr>\n",
       "    <tr>\n",
       "      <th>min</th>\n",
       "      <td>1.000000</td>\n",
       "      <td>1.000000</td>\n",
       "      <td>0.000000</td>\n",
       "      <td>1.000000</td>\n",
       "      <td>0.000000</td>\n",
       "      <td>0.000000</td>\n",
       "      <td>0.000000</td>\n",
       "      <td>1.000000</td>\n",
       "      <td>2.424346</td>\n",
       "      <td>3.953480</td>\n",
       "      <td>0.000000</td>\n",
       "      <td>1.500244</td>\n",
       "      <td>2.000000</td>\n",
       "      <td>20.000000</td>\n",
       "      <td>22.000000</td>\n",
       "    </tr>\n",
       "    <tr>\n",
       "      <th>25%</th>\n",
       "      <td>183.250000</td>\n",
       "      <td>2.000000</td>\n",
       "      <td>0.000000</td>\n",
       "      <td>4.000000</td>\n",
       "      <td>0.000000</td>\n",
       "      <td>1.000000</td>\n",
       "      <td>0.000000</td>\n",
       "      <td>1.000000</td>\n",
       "      <td>13.811885</td>\n",
       "      <td>16.889713</td>\n",
       "      <td>52.000000</td>\n",
       "      <td>9.041650</td>\n",
       "      <td>316.250000</td>\n",
       "      <td>2502.250000</td>\n",
       "      <td>3169.750000</td>\n",
       "    </tr>\n",
       "    <tr>\n",
       "      <th>50%</th>\n",
       "      <td>365.500000</td>\n",
       "      <td>3.000000</td>\n",
       "      <td>0.500000</td>\n",
       "      <td>7.000000</td>\n",
       "      <td>0.000000</td>\n",
       "      <td>3.000000</td>\n",
       "      <td>1.000000</td>\n",
       "      <td>1.000000</td>\n",
       "      <td>20.465826</td>\n",
       "      <td>24.368225</td>\n",
       "      <td>62.625000</td>\n",
       "      <td>12.125325</td>\n",
       "      <td>717.000000</td>\n",
       "      <td>3664.500000</td>\n",
       "      <td>4548.500000</td>\n",
       "    </tr>\n",
       "    <tr>\n",
       "      <th>75%</th>\n",
       "      <td>547.750000</td>\n",
       "      <td>3.000000</td>\n",
       "      <td>1.000000</td>\n",
       "      <td>10.000000</td>\n",
       "      <td>0.000000</td>\n",
       "      <td>5.000000</td>\n",
       "      <td>1.000000</td>\n",
       "      <td>2.000000</td>\n",
       "      <td>26.880615</td>\n",
       "      <td>30.445775</td>\n",
       "      <td>72.989575</td>\n",
       "      <td>15.625589</td>\n",
       "      <td>1096.500000</td>\n",
       "      <td>4783.250000</td>\n",
       "      <td>5966.000000</td>\n",
       "    </tr>\n",
       "    <tr>\n",
       "      <th>max</th>\n",
       "      <td>730.000000</td>\n",
       "      <td>4.000000</td>\n",
       "      <td>1.000000</td>\n",
       "      <td>12.000000</td>\n",
       "      <td>1.000000</td>\n",
       "      <td>6.000000</td>\n",
       "      <td>1.000000</td>\n",
       "      <td>3.000000</td>\n",
       "      <td>35.328347</td>\n",
       "      <td>42.044800</td>\n",
       "      <td>97.250000</td>\n",
       "      <td>34.000021</td>\n",
       "      <td>3410.000000</td>\n",
       "      <td>6946.000000</td>\n",
       "      <td>8714.000000</td>\n",
       "    </tr>\n",
       "  </tbody>\n",
       "</table>\n",
       "</div>"
      ],
      "text/plain": [
       "          instant      season          yr        mnth     holiday     weekday  \\\n",
       "count  730.000000  730.000000  730.000000  730.000000  730.000000  730.000000   \n",
       "mean   365.500000    2.498630    0.500000    6.526027    0.028767    2.997260   \n",
       "std    210.877136    1.110184    0.500343    3.450215    0.167266    2.006161   \n",
       "min      1.000000    1.000000    0.000000    1.000000    0.000000    0.000000   \n",
       "25%    183.250000    2.000000    0.000000    4.000000    0.000000    1.000000   \n",
       "50%    365.500000    3.000000    0.500000    7.000000    0.000000    3.000000   \n",
       "75%    547.750000    3.000000    1.000000   10.000000    0.000000    5.000000   \n",
       "max    730.000000    4.000000    1.000000   12.000000    1.000000    6.000000   \n",
       "\n",
       "       workingday  weathersit        temp       atemp         hum   windspeed  \\\n",
       "count  730.000000  730.000000  730.000000  730.000000  730.000000  730.000000   \n",
       "mean     0.683562    1.394521   20.319259   23.726322   62.765175   12.763620   \n",
       "std      0.465405    0.544807    7.506729    8.150308   14.237589    5.195841   \n",
       "min      0.000000    1.000000    2.424346    3.953480    0.000000    1.500244   \n",
       "25%      0.000000    1.000000   13.811885   16.889713   52.000000    9.041650   \n",
       "50%      1.000000    1.000000   20.465826   24.368225   62.625000   12.125325   \n",
       "75%      1.000000    2.000000   26.880615   30.445775   72.989575   15.625589   \n",
       "max      1.000000    3.000000   35.328347   42.044800   97.250000   34.000021   \n",
       "\n",
       "            casual   registered          cnt  \n",
       "count   730.000000   730.000000   730.000000  \n",
       "mean    849.249315  3658.757534  4508.006849  \n",
       "std     686.479875  1559.758728  1936.011647  \n",
       "min       2.000000    20.000000    22.000000  \n",
       "25%     316.250000  2502.250000  3169.750000  \n",
       "50%     717.000000  3664.500000  4548.500000  \n",
       "75%    1096.500000  4783.250000  5966.000000  \n",
       "max    3410.000000  6946.000000  8714.000000  "
      ]
     },
     "execution_count": 4,
     "metadata": {},
     "output_type": "execute_result"
    }
   ],
   "source": [
    "df_sharing.describe()"
   ]
  },
  {
   "cell_type": "code",
   "execution_count": 5,
   "id": "10dd3fad",
   "metadata": {},
   "outputs": [
    {
     "data": {
      "text/plain": [
       "(730, 16)"
      ]
     },
     "execution_count": 5,
     "metadata": {},
     "output_type": "execute_result"
    }
   ],
   "source": [
    "df_sharing.shape"
   ]
  },
  {
   "cell_type": "markdown",
   "id": "8a25f3a1",
   "metadata": {},
   "source": [
    "As per input data we can observe following points:\n",
    " - There are 730 entries or data points from input provided\n",
    " - Data has 16 inital columns inclusing independent and dependent target variable.\n",
    " - There is one catagorical varible from initial data named 'dteday'"
   ]
  },
  {
   "cell_type": "markdown",
   "id": "16ddc109",
   "metadata": {},
   "source": [
    "## Data cleaning:\n",
    "\n",
    "As per observation from initial data there are no null/missing values present in data also the data is well organized with single header.\n",
    "But there is one columned <b>'instant'</b> indicates record index which is not required for <b>model devolopment</b> and analysis so we can remove this column\n",
    "\n",
    "Also the columns <b>casual</b> and <b>registered</b> are number of bookings happend from causual and refistered users and as per data dictionary sum of these 2 variables results in <b>'cnt'</b> target variable. So we can drop these columns."
   ]
  },
  {
   "cell_type": "code",
   "execution_count": 6,
   "id": "42bb989a",
   "metadata": {},
   "outputs": [
    {
     "data": {
      "text/html": [
       "<div>\n",
       "<style scoped>\n",
       "    .dataframe tbody tr th:only-of-type {\n",
       "        vertical-align: middle;\n",
       "    }\n",
       "\n",
       "    .dataframe tbody tr th {\n",
       "        vertical-align: top;\n",
       "    }\n",
       "\n",
       "    .dataframe thead th {\n",
       "        text-align: right;\n",
       "    }\n",
       "</style>\n",
       "<table border=\"1\" class=\"dataframe\">\n",
       "  <thead>\n",
       "    <tr style=\"text-align: right;\">\n",
       "      <th></th>\n",
       "      <th>dteday</th>\n",
       "      <th>season</th>\n",
       "      <th>yr</th>\n",
       "      <th>mnth</th>\n",
       "      <th>holiday</th>\n",
       "      <th>weekday</th>\n",
       "      <th>workingday</th>\n",
       "      <th>weathersit</th>\n",
       "      <th>temp</th>\n",
       "      <th>atemp</th>\n",
       "      <th>hum</th>\n",
       "      <th>windspeed</th>\n",
       "      <th>cnt</th>\n",
       "    </tr>\n",
       "  </thead>\n",
       "  <tbody>\n",
       "    <tr>\n",
       "      <th>0</th>\n",
       "      <td>01-01-2018</td>\n",
       "      <td>1</td>\n",
       "      <td>0</td>\n",
       "      <td>1</td>\n",
       "      <td>0</td>\n",
       "      <td>6</td>\n",
       "      <td>0</td>\n",
       "      <td>2</td>\n",
       "      <td>14.110847</td>\n",
       "      <td>18.18125</td>\n",
       "      <td>80.5833</td>\n",
       "      <td>10.749882</td>\n",
       "      <td>985</td>\n",
       "    </tr>\n",
       "    <tr>\n",
       "      <th>1</th>\n",
       "      <td>02-01-2018</td>\n",
       "      <td>1</td>\n",
       "      <td>0</td>\n",
       "      <td>1</td>\n",
       "      <td>0</td>\n",
       "      <td>0</td>\n",
       "      <td>0</td>\n",
       "      <td>2</td>\n",
       "      <td>14.902598</td>\n",
       "      <td>17.68695</td>\n",
       "      <td>69.6087</td>\n",
       "      <td>16.652113</td>\n",
       "      <td>801</td>\n",
       "    </tr>\n",
       "    <tr>\n",
       "      <th>2</th>\n",
       "      <td>03-01-2018</td>\n",
       "      <td>1</td>\n",
       "      <td>0</td>\n",
       "      <td>1</td>\n",
       "      <td>0</td>\n",
       "      <td>1</td>\n",
       "      <td>1</td>\n",
       "      <td>1</td>\n",
       "      <td>8.050924</td>\n",
       "      <td>9.47025</td>\n",
       "      <td>43.7273</td>\n",
       "      <td>16.636703</td>\n",
       "      <td>1349</td>\n",
       "    </tr>\n",
       "    <tr>\n",
       "      <th>3</th>\n",
       "      <td>04-01-2018</td>\n",
       "      <td>1</td>\n",
       "      <td>0</td>\n",
       "      <td>1</td>\n",
       "      <td>0</td>\n",
       "      <td>2</td>\n",
       "      <td>1</td>\n",
       "      <td>1</td>\n",
       "      <td>8.200000</td>\n",
       "      <td>10.60610</td>\n",
       "      <td>59.0435</td>\n",
       "      <td>10.739832</td>\n",
       "      <td>1562</td>\n",
       "    </tr>\n",
       "    <tr>\n",
       "      <th>4</th>\n",
       "      <td>05-01-2018</td>\n",
       "      <td>1</td>\n",
       "      <td>0</td>\n",
       "      <td>1</td>\n",
       "      <td>0</td>\n",
       "      <td>3</td>\n",
       "      <td>1</td>\n",
       "      <td>1</td>\n",
       "      <td>9.305237</td>\n",
       "      <td>11.46350</td>\n",
       "      <td>43.6957</td>\n",
       "      <td>12.522300</td>\n",
       "      <td>1600</td>\n",
       "    </tr>\n",
       "  </tbody>\n",
       "</table>\n",
       "</div>"
      ],
      "text/plain": [
       "       dteday  season  yr  mnth  holiday  weekday  workingday  weathersit  \\\n",
       "0  01-01-2018       1   0     1        0        6           0           2   \n",
       "1  02-01-2018       1   0     1        0        0           0           2   \n",
       "2  03-01-2018       1   0     1        0        1           1           1   \n",
       "3  04-01-2018       1   0     1        0        2           1           1   \n",
       "4  05-01-2018       1   0     1        0        3           1           1   \n",
       "\n",
       "        temp     atemp      hum  windspeed   cnt  \n",
       "0  14.110847  18.18125  80.5833  10.749882   985  \n",
       "1  14.902598  17.68695  69.6087  16.652113   801  \n",
       "2   8.050924   9.47025  43.7273  16.636703  1349  \n",
       "3   8.200000  10.60610  59.0435  10.739832  1562  \n",
       "4   9.305237  11.46350  43.6957  12.522300  1600  "
      ]
     },
     "execution_count": 6,
     "metadata": {},
     "output_type": "execute_result"
    }
   ],
   "source": [
    "df_sharing = df_sharing.drop('instant', axis=1)\n",
    "df_sharing = df_sharing.drop('registered', axis=1)\n",
    "df_sharing = df_sharing.drop('casual', axis=1)\n",
    "df_sharing.head()"
   ]
  },
  {
   "cell_type": "markdown",
   "id": "a5921416",
   "metadata": {},
   "source": [
    "## Data analysis and manipulations:\n",
    "### univariate analysis on catagorical variables"
   ]
  },
  {
   "cell_type": "markdown",
   "id": "f53b4847",
   "metadata": {},
   "source": [
    "### dteday:\n",
    "This column represents date when bike-sharing booking happend.\n",
    "here we can create a new column with <b>day</b> for analysis. Month and year information has already present in columns 'mnth' and 'yr' so we are not going to create new columns for those attributes here. "
   ]
  },
  {
   "cell_type": "code",
   "execution_count": 7,
   "id": "87d1a6c3",
   "metadata": {},
   "outputs": [
    {
     "data": {
      "text/html": [
       "<div>\n",
       "<style scoped>\n",
       "    .dataframe tbody tr th:only-of-type {\n",
       "        vertical-align: middle;\n",
       "    }\n",
       "\n",
       "    .dataframe tbody tr th {\n",
       "        vertical-align: top;\n",
       "    }\n",
       "\n",
       "    .dataframe thead th {\n",
       "        text-align: right;\n",
       "    }\n",
       "</style>\n",
       "<table border=\"1\" class=\"dataframe\">\n",
       "  <thead>\n",
       "    <tr style=\"text-align: right;\">\n",
       "      <th></th>\n",
       "      <th>dteday</th>\n",
       "      <th>season</th>\n",
       "      <th>yr</th>\n",
       "      <th>mnth</th>\n",
       "      <th>holiday</th>\n",
       "      <th>weekday</th>\n",
       "      <th>workingday</th>\n",
       "      <th>weathersit</th>\n",
       "      <th>temp</th>\n",
       "      <th>atemp</th>\n",
       "      <th>hum</th>\n",
       "      <th>windspeed</th>\n",
       "      <th>cnt</th>\n",
       "      <th>day</th>\n",
       "    </tr>\n",
       "  </thead>\n",
       "  <tbody>\n",
       "    <tr>\n",
       "      <th>0</th>\n",
       "      <td>01-01-2018</td>\n",
       "      <td>1</td>\n",
       "      <td>0</td>\n",
       "      <td>1</td>\n",
       "      <td>0</td>\n",
       "      <td>6</td>\n",
       "      <td>0</td>\n",
       "      <td>2</td>\n",
       "      <td>14.110847</td>\n",
       "      <td>18.18125</td>\n",
       "      <td>80.5833</td>\n",
       "      <td>10.749882</td>\n",
       "      <td>985</td>\n",
       "      <td>1</td>\n",
       "    </tr>\n",
       "    <tr>\n",
       "      <th>1</th>\n",
       "      <td>02-01-2018</td>\n",
       "      <td>1</td>\n",
       "      <td>0</td>\n",
       "      <td>1</td>\n",
       "      <td>0</td>\n",
       "      <td>0</td>\n",
       "      <td>0</td>\n",
       "      <td>2</td>\n",
       "      <td>14.902598</td>\n",
       "      <td>17.68695</td>\n",
       "      <td>69.6087</td>\n",
       "      <td>16.652113</td>\n",
       "      <td>801</td>\n",
       "      <td>2</td>\n",
       "    </tr>\n",
       "    <tr>\n",
       "      <th>2</th>\n",
       "      <td>03-01-2018</td>\n",
       "      <td>1</td>\n",
       "      <td>0</td>\n",
       "      <td>1</td>\n",
       "      <td>0</td>\n",
       "      <td>1</td>\n",
       "      <td>1</td>\n",
       "      <td>1</td>\n",
       "      <td>8.050924</td>\n",
       "      <td>9.47025</td>\n",
       "      <td>43.7273</td>\n",
       "      <td>16.636703</td>\n",
       "      <td>1349</td>\n",
       "      <td>3</td>\n",
       "    </tr>\n",
       "    <tr>\n",
       "      <th>3</th>\n",
       "      <td>04-01-2018</td>\n",
       "      <td>1</td>\n",
       "      <td>0</td>\n",
       "      <td>1</td>\n",
       "      <td>0</td>\n",
       "      <td>2</td>\n",
       "      <td>1</td>\n",
       "      <td>1</td>\n",
       "      <td>8.200000</td>\n",
       "      <td>10.60610</td>\n",
       "      <td>59.0435</td>\n",
       "      <td>10.739832</td>\n",
       "      <td>1562</td>\n",
       "      <td>4</td>\n",
       "    </tr>\n",
       "    <tr>\n",
       "      <th>4</th>\n",
       "      <td>05-01-2018</td>\n",
       "      <td>1</td>\n",
       "      <td>0</td>\n",
       "      <td>1</td>\n",
       "      <td>0</td>\n",
       "      <td>3</td>\n",
       "      <td>1</td>\n",
       "      <td>1</td>\n",
       "      <td>9.305237</td>\n",
       "      <td>11.46350</td>\n",
       "      <td>43.6957</td>\n",
       "      <td>12.522300</td>\n",
       "      <td>1600</td>\n",
       "      <td>5</td>\n",
       "    </tr>\n",
       "  </tbody>\n",
       "</table>\n",
       "</div>"
      ],
      "text/plain": [
       "       dteday  season  yr  mnth  holiday  weekday  workingday  weathersit  \\\n",
       "0  01-01-2018       1   0     1        0        6           0           2   \n",
       "1  02-01-2018       1   0     1        0        0           0           2   \n",
       "2  03-01-2018       1   0     1        0        1           1           1   \n",
       "3  04-01-2018       1   0     1        0        2           1           1   \n",
       "4  05-01-2018       1   0     1        0        3           1           1   \n",
       "\n",
       "        temp     atemp      hum  windspeed   cnt  day  \n",
       "0  14.110847  18.18125  80.5833  10.749882   985    1  \n",
       "1  14.902598  17.68695  69.6087  16.652113   801    2  \n",
       "2   8.050924   9.47025  43.7273  16.636703  1349    3  \n",
       "3   8.200000  10.60610  59.0435  10.739832  1562    4  \n",
       "4   9.305237  11.46350  43.6957  12.522300  1600    5  "
      ]
     },
     "execution_count": 7,
     "metadata": {},
     "output_type": "execute_result"
    }
   ],
   "source": [
    "df_sharing['day'] = pd.to_datetime(df_sharing['dteday'], format=\"%d-%m-%Y\").dt.day\n",
    "df_sharing.head()"
   ]
  },
  {
   "cell_type": "markdown",
   "id": "3385a234",
   "metadata": {},
   "source": [
    "Now we can drop <b>dteday</b> column because not we have date information in remaining columns. "
   ]
  },
  {
   "cell_type": "code",
   "execution_count": 8,
   "id": "98c5fdba",
   "metadata": {},
   "outputs": [
    {
     "data": {
      "text/html": [
       "<div>\n",
       "<style scoped>\n",
       "    .dataframe tbody tr th:only-of-type {\n",
       "        vertical-align: middle;\n",
       "    }\n",
       "\n",
       "    .dataframe tbody tr th {\n",
       "        vertical-align: top;\n",
       "    }\n",
       "\n",
       "    .dataframe thead th {\n",
       "        text-align: right;\n",
       "    }\n",
       "</style>\n",
       "<table border=\"1\" class=\"dataframe\">\n",
       "  <thead>\n",
       "    <tr style=\"text-align: right;\">\n",
       "      <th></th>\n",
       "      <th>season</th>\n",
       "      <th>yr</th>\n",
       "      <th>mnth</th>\n",
       "      <th>holiday</th>\n",
       "      <th>weekday</th>\n",
       "      <th>workingday</th>\n",
       "      <th>weathersit</th>\n",
       "      <th>temp</th>\n",
       "      <th>atemp</th>\n",
       "      <th>hum</th>\n",
       "      <th>windspeed</th>\n",
       "      <th>cnt</th>\n",
       "      <th>day</th>\n",
       "    </tr>\n",
       "  </thead>\n",
       "  <tbody>\n",
       "    <tr>\n",
       "      <th>0</th>\n",
       "      <td>1</td>\n",
       "      <td>0</td>\n",
       "      <td>1</td>\n",
       "      <td>0</td>\n",
       "      <td>6</td>\n",
       "      <td>0</td>\n",
       "      <td>2</td>\n",
       "      <td>14.110847</td>\n",
       "      <td>18.18125</td>\n",
       "      <td>80.5833</td>\n",
       "      <td>10.749882</td>\n",
       "      <td>985</td>\n",
       "      <td>1</td>\n",
       "    </tr>\n",
       "    <tr>\n",
       "      <th>1</th>\n",
       "      <td>1</td>\n",
       "      <td>0</td>\n",
       "      <td>1</td>\n",
       "      <td>0</td>\n",
       "      <td>0</td>\n",
       "      <td>0</td>\n",
       "      <td>2</td>\n",
       "      <td>14.902598</td>\n",
       "      <td>17.68695</td>\n",
       "      <td>69.6087</td>\n",
       "      <td>16.652113</td>\n",
       "      <td>801</td>\n",
       "      <td>2</td>\n",
       "    </tr>\n",
       "    <tr>\n",
       "      <th>2</th>\n",
       "      <td>1</td>\n",
       "      <td>0</td>\n",
       "      <td>1</td>\n",
       "      <td>0</td>\n",
       "      <td>1</td>\n",
       "      <td>1</td>\n",
       "      <td>1</td>\n",
       "      <td>8.050924</td>\n",
       "      <td>9.47025</td>\n",
       "      <td>43.7273</td>\n",
       "      <td>16.636703</td>\n",
       "      <td>1349</td>\n",
       "      <td>3</td>\n",
       "    </tr>\n",
       "    <tr>\n",
       "      <th>3</th>\n",
       "      <td>1</td>\n",
       "      <td>0</td>\n",
       "      <td>1</td>\n",
       "      <td>0</td>\n",
       "      <td>2</td>\n",
       "      <td>1</td>\n",
       "      <td>1</td>\n",
       "      <td>8.200000</td>\n",
       "      <td>10.60610</td>\n",
       "      <td>59.0435</td>\n",
       "      <td>10.739832</td>\n",
       "      <td>1562</td>\n",
       "      <td>4</td>\n",
       "    </tr>\n",
       "    <tr>\n",
       "      <th>4</th>\n",
       "      <td>1</td>\n",
       "      <td>0</td>\n",
       "      <td>1</td>\n",
       "      <td>0</td>\n",
       "      <td>3</td>\n",
       "      <td>1</td>\n",
       "      <td>1</td>\n",
       "      <td>9.305237</td>\n",
       "      <td>11.46350</td>\n",
       "      <td>43.6957</td>\n",
       "      <td>12.522300</td>\n",
       "      <td>1600</td>\n",
       "      <td>5</td>\n",
       "    </tr>\n",
       "  </tbody>\n",
       "</table>\n",
       "</div>"
      ],
      "text/plain": [
       "   season  yr  mnth  holiday  weekday  workingday  weathersit       temp  \\\n",
       "0       1   0     1        0        6           0           2  14.110847   \n",
       "1       1   0     1        0        0           0           2  14.902598   \n",
       "2       1   0     1        0        1           1           1   8.050924   \n",
       "3       1   0     1        0        2           1           1   8.200000   \n",
       "4       1   0     1        0        3           1           1   9.305237   \n",
       "\n",
       "      atemp      hum  windspeed   cnt  day  \n",
       "0  18.18125  80.5833  10.749882   985    1  \n",
       "1  17.68695  69.6087  16.652113   801    2  \n",
       "2   9.47025  43.7273  16.636703  1349    3  \n",
       "3  10.60610  59.0435  10.739832  1562    4  \n",
       "4  11.46350  43.6957  12.522300  1600    5  "
      ]
     },
     "execution_count": 8,
     "metadata": {},
     "output_type": "execute_result"
    }
   ],
   "source": [
    "df_sharing = df_sharing.drop('dteday', axis=1)\n",
    "df_sharing.head()"
   ]
  },
  {
   "cell_type": "markdown",
   "id": "b1ddded1",
   "metadata": {},
   "source": [
    "also we can check is there any relation between attribute day and target variable."
   ]
  },
  {
   "cell_type": "code",
   "execution_count": 9,
   "id": "ffde9797",
   "metadata": {},
   "outputs": [
    {
     "data": {
      "text/plain": [
       "<Axes: title={'center': 'Bookings vs day of month'}, xlabel='day', ylabel='yr'>"
      ]
     },
     "execution_count": 9,
     "metadata": {},
     "output_type": "execute_result"
    },
    {
     "data": {
      "image/png": "[encoded data removed]",
      "text/plain": [
       "<Figure size 800x400 with 1 Axes>"
      ]
     },
     "metadata": {},
     "output_type": "display_data"
    }
   ],
   "source": [
    "pt_day = pd.pivot_table(df_sharing, values='cnt', index='day', columns='yr', aggfunc='mean')\n",
    "pt_day.plot(kind='bar', figsize=(8, 4), rot=45,  ylabel='yr', title=\"Bookings vs day of month\")"
   ]
  },
  {
   "cell_type": "markdown",
   "id": "2203331f",
   "metadata": {},
   "source": [
    "There is no significant change or correlation observed between day of booking and number of bookings so we can drop 'day' column from out analysis."
   ]
  },
  {
   "cell_type": "code",
   "execution_count": 10,
   "id": "14008dee",
   "metadata": {},
   "outputs": [
    {
     "data": {
      "text/html": [
       "<div>\n",
       "<style scoped>\n",
       "    .dataframe tbody tr th:only-of-type {\n",
       "        vertical-align: middle;\n",
       "    }\n",
       "\n",
       "    .dataframe tbody tr th {\n",
       "        vertical-align: top;\n",
       "    }\n",
       "\n",
       "    .dataframe thead th {\n",
       "        text-align: right;\n",
       "    }\n",
       "</style>\n",
       "<table border=\"1\" class=\"dataframe\">\n",
       "  <thead>\n",
       "    <tr style=\"text-align: right;\">\n",
       "      <th></th>\n",
       "      <th>season</th>\n",
       "      <th>yr</th>\n",
       "      <th>mnth</th>\n",
       "      <th>holiday</th>\n",
       "      <th>weekday</th>\n",
       "      <th>workingday</th>\n",
       "      <th>weathersit</th>\n",
       "      <th>temp</th>\n",
       "      <th>atemp</th>\n",
       "      <th>hum</th>\n",
       "      <th>windspeed</th>\n",
       "      <th>cnt</th>\n",
       "    </tr>\n",
       "  </thead>\n",
       "  <tbody>\n",
       "    <tr>\n",
       "      <th>0</th>\n",
       "      <td>1</td>\n",
       "      <td>0</td>\n",
       "      <td>1</td>\n",
       "      <td>0</td>\n",
       "      <td>6</td>\n",
       "      <td>0</td>\n",
       "      <td>2</td>\n",
       "      <td>14.110847</td>\n",
       "      <td>18.18125</td>\n",
       "      <td>80.5833</td>\n",
       "      <td>10.749882</td>\n",
       "      <td>985</td>\n",
       "    </tr>\n",
       "    <tr>\n",
       "      <th>1</th>\n",
       "      <td>1</td>\n",
       "      <td>0</td>\n",
       "      <td>1</td>\n",
       "      <td>0</td>\n",
       "      <td>0</td>\n",
       "      <td>0</td>\n",
       "      <td>2</td>\n",
       "      <td>14.902598</td>\n",
       "      <td>17.68695</td>\n",
       "      <td>69.6087</td>\n",
       "      <td>16.652113</td>\n",
       "      <td>801</td>\n",
       "    </tr>\n",
       "    <tr>\n",
       "      <th>2</th>\n",
       "      <td>1</td>\n",
       "      <td>0</td>\n",
       "      <td>1</td>\n",
       "      <td>0</td>\n",
       "      <td>1</td>\n",
       "      <td>1</td>\n",
       "      <td>1</td>\n",
       "      <td>8.050924</td>\n",
       "      <td>9.47025</td>\n",
       "      <td>43.7273</td>\n",
       "      <td>16.636703</td>\n",
       "      <td>1349</td>\n",
       "    </tr>\n",
       "    <tr>\n",
       "      <th>3</th>\n",
       "      <td>1</td>\n",
       "      <td>0</td>\n",
       "      <td>1</td>\n",
       "      <td>0</td>\n",
       "      <td>2</td>\n",
       "      <td>1</td>\n",
       "      <td>1</td>\n",
       "      <td>8.200000</td>\n",
       "      <td>10.60610</td>\n",
       "      <td>59.0435</td>\n",
       "      <td>10.739832</td>\n",
       "      <td>1562</td>\n",
       "    </tr>\n",
       "    <tr>\n",
       "      <th>4</th>\n",
       "      <td>1</td>\n",
       "      <td>0</td>\n",
       "      <td>1</td>\n",
       "      <td>0</td>\n",
       "      <td>3</td>\n",
       "      <td>1</td>\n",
       "      <td>1</td>\n",
       "      <td>9.305237</td>\n",
       "      <td>11.46350</td>\n",
       "      <td>43.6957</td>\n",
       "      <td>12.522300</td>\n",
       "      <td>1600</td>\n",
       "    </tr>\n",
       "  </tbody>\n",
       "</table>\n",
       "</div>"
      ],
      "text/plain": [
       "   season  yr  mnth  holiday  weekday  workingday  weathersit       temp  \\\n",
       "0       1   0     1        0        6           0           2  14.110847   \n",
       "1       1   0     1        0        0           0           2  14.902598   \n",
       "2       1   0     1        0        1           1           1   8.050924   \n",
       "3       1   0     1        0        2           1           1   8.200000   \n",
       "4       1   0     1        0        3           1           1   9.305237   \n",
       "\n",
       "      atemp      hum  windspeed   cnt  \n",
       "0  18.18125  80.5833  10.749882   985  \n",
       "1  17.68695  69.6087  16.652113   801  \n",
       "2   9.47025  43.7273  16.636703  1349  \n",
       "3  10.60610  59.0435  10.739832  1562  \n",
       "4  11.46350  43.6957  12.522300  1600  "
      ]
     },
     "execution_count": 10,
     "metadata": {},
     "output_type": "execute_result"
    }
   ],
   "source": [
    "df_sharing = df_sharing.drop('day', axis=1)\n",
    "df_sharing.head()"
   ]
  },
  {
   "cell_type": "markdown",
   "id": "2d3ab90f",
   "metadata": {},
   "source": [
    "### season:\n",
    "This column represents season information in catagorical data with 4 types. As per data dictionary these column values represents following information.\n",
    " 1:spring<br>\n",
    " 2:summer<br>\n",
    " 3:fall<br>\n",
    " 4:winter<br>\n",
    "First we will visualize these in <b>bar</b> chart and analyze."
   ]
  },
  {
   "cell_type": "code",
   "execution_count": 11,
   "id": "96e7e348",
   "metadata": {},
   "outputs": [
    {
     "data": {
      "image/png": "[encoded data removed]",
      "text/plain": [
       "<Figure size 640x480 with 1 Axes>"
      ]
     },
     "metadata": {},
     "output_type": "display_data"
    },
    {
     "data": {
      "image/png": "[encoded data removed]",
      "text/plain": [
       "<Figure size 640x480 with 1 Axes>"
      ]
     },
     "metadata": {},
     "output_type": "display_data"
    }
   ],
   "source": [
    "df_sharing.season = df_sharing.season.map({1:'spring', 2:'summer', 3:'fall', 4:'winter'})\n",
    "pt_season = pd.pivot_table(df_sharing, values='cnt', index='season', columns='yr', aggfunc='sum')\n",
    "pt_season.plot(kind='bar', rot=45,  ylabel='yr', title=\"Bookings vs day of month\")\n",
    "plt.show()\n",
    "sns.boxplot(x = 'season', y = 'cnt', hue = 'yr', data = df_sharing)\n",
    "plt.show()"
   ]
  },
  {
   "cell_type": "markdown",
   "id": "73ddc3d7",
   "metadata": {},
   "source": [
    "As per above distribution plot we can observe that there is a clear correlation between attribute <b>season</b> and target variable <b>cnt</b> during years 2018(0) and 2019(1).\n",
    "Higher number of bookings happend in 'fall' and 'summer' \n",
    "<b>season</b> is not a <b>ordered</b> catagorical variable and each season is independent of other. So we can make new numerical <b>dummy Variables</b> from <b>season</b> column for model devolopment as follows.\n"
   ]
  },
  {
   "cell_type": "code",
   "execution_count": 12,
   "id": "f8d133a9",
   "metadata": {},
   "outputs": [
    {
     "data": {
      "text/html": [
       "<div>\n",
       "<style scoped>\n",
       "    .dataframe tbody tr th:only-of-type {\n",
       "        vertical-align: middle;\n",
       "    }\n",
       "\n",
       "    .dataframe tbody tr th {\n",
       "        vertical-align: top;\n",
       "    }\n",
       "\n",
       "    .dataframe thead th {\n",
       "        text-align: right;\n",
       "    }\n",
       "</style>\n",
       "<table border=\"1\" class=\"dataframe\">\n",
       "  <thead>\n",
       "    <tr style=\"text-align: right;\">\n",
       "      <th></th>\n",
       "      <th>yr</th>\n",
       "      <th>mnth</th>\n",
       "      <th>holiday</th>\n",
       "      <th>weekday</th>\n",
       "      <th>workingday</th>\n",
       "      <th>weathersit</th>\n",
       "      <th>temp</th>\n",
       "      <th>atemp</th>\n",
       "      <th>hum</th>\n",
       "      <th>windspeed</th>\n",
       "      <th>cnt</th>\n",
       "      <th>spring</th>\n",
       "      <th>summer</th>\n",
       "      <th>winter</th>\n",
       "    </tr>\n",
       "  </thead>\n",
       "  <tbody>\n",
       "    <tr>\n",
       "      <th>0</th>\n",
       "      <td>0</td>\n",
       "      <td>1</td>\n",
       "      <td>0</td>\n",
       "      <td>6</td>\n",
       "      <td>0</td>\n",
       "      <td>2</td>\n",
       "      <td>14.110847</td>\n",
       "      <td>18.18125</td>\n",
       "      <td>80.5833</td>\n",
       "      <td>10.749882</td>\n",
       "      <td>985</td>\n",
       "      <td>1</td>\n",
       "      <td>0</td>\n",
       "      <td>0</td>\n",
       "    </tr>\n",
       "    <tr>\n",
       "      <th>1</th>\n",
       "      <td>0</td>\n",
       "      <td>1</td>\n",
       "      <td>0</td>\n",
       "      <td>0</td>\n",
       "      <td>0</td>\n",
       "      <td>2</td>\n",
       "      <td>14.902598</td>\n",
       "      <td>17.68695</td>\n",
       "      <td>69.6087</td>\n",
       "      <td>16.652113</td>\n",
       "      <td>801</td>\n",
       "      <td>1</td>\n",
       "      <td>0</td>\n",
       "      <td>0</td>\n",
       "    </tr>\n",
       "    <tr>\n",
       "      <th>2</th>\n",
       "      <td>0</td>\n",
       "      <td>1</td>\n",
       "      <td>0</td>\n",
       "      <td>1</td>\n",
       "      <td>1</td>\n",
       "      <td>1</td>\n",
       "      <td>8.050924</td>\n",
       "      <td>9.47025</td>\n",
       "      <td>43.7273</td>\n",
       "      <td>16.636703</td>\n",
       "      <td>1349</td>\n",
       "      <td>1</td>\n",
       "      <td>0</td>\n",
       "      <td>0</td>\n",
       "    </tr>\n",
       "    <tr>\n",
       "      <th>3</th>\n",
       "      <td>0</td>\n",
       "      <td>1</td>\n",
       "      <td>0</td>\n",
       "      <td>2</td>\n",
       "      <td>1</td>\n",
       "      <td>1</td>\n",
       "      <td>8.200000</td>\n",
       "      <td>10.60610</td>\n",
       "      <td>59.0435</td>\n",
       "      <td>10.739832</td>\n",
       "      <td>1562</td>\n",
       "      <td>1</td>\n",
       "      <td>0</td>\n",
       "      <td>0</td>\n",
       "    </tr>\n",
       "    <tr>\n",
       "      <th>4</th>\n",
       "      <td>0</td>\n",
       "      <td>1</td>\n",
       "      <td>0</td>\n",
       "      <td>3</td>\n",
       "      <td>1</td>\n",
       "      <td>1</td>\n",
       "      <td>9.305237</td>\n",
       "      <td>11.46350</td>\n",
       "      <td>43.6957</td>\n",
       "      <td>12.522300</td>\n",
       "      <td>1600</td>\n",
       "      <td>1</td>\n",
       "      <td>0</td>\n",
       "      <td>0</td>\n",
       "    </tr>\n",
       "  </tbody>\n",
       "</table>\n",
       "</div>"
      ],
      "text/plain": [
       "   yr  mnth  holiday  weekday  workingday  weathersit       temp     atemp  \\\n",
       "0   0     1        0        6           0           2  14.110847  18.18125   \n",
       "1   0     1        0        0           0           2  14.902598  17.68695   \n",
       "2   0     1        0        1           1           1   8.050924   9.47025   \n",
       "3   0     1        0        2           1           1   8.200000  10.60610   \n",
       "4   0     1        0        3           1           1   9.305237  11.46350   \n",
       "\n",
       "       hum  windspeed   cnt  spring  summer  winter  \n",
       "0  80.5833  10.749882   985       1       0       0  \n",
       "1  69.6087  16.652113   801       1       0       0  \n",
       "2  43.7273  16.636703  1349       1       0       0  \n",
       "3  59.0435  10.739832  1562       1       0       0  \n",
       "4  43.6957  12.522300  1600       1       0       0  "
      ]
     },
     "execution_count": 12,
     "metadata": {},
     "output_type": "execute_result"
    }
   ],
   "source": [
    "season_dummy = pd.get_dummies(df_sharing['season'], drop_first = True)\n",
    "season_dummy = season_dummy.astype(int)\n",
    "df_sharing = pd.concat([df_sharing, season_dummy], axis = 1)\n",
    "# now drop 'season' column from data\n",
    "df_sharing = df_sharing.drop('season', axis=1)\n",
    "df_sharing.head()"
   ]
  },
  {
   "cell_type": "markdown",
   "id": "85484167",
   "metadata": {},
   "source": [
    "### yr:"
   ]
  },
  {
   "cell_type": "code",
   "execution_count": 13,
   "id": "1470c571",
   "metadata": {},
   "outputs": [
    {
     "data": {
      "image/png": "[encoded data removed]",
      "text/plain": [
       "<Figure size 640x480 with 1 Axes>"
      ]
     },
     "metadata": {},
     "output_type": "display_data"
    }
   ],
   "source": [
    "sns.boxplot(x = 'yr', y = 'cnt', data = df_sharing)\n",
    "plt.show()"
   ]
  },
  {
   "cell_type": "markdown",
   "id": "6cc64bbb",
   "metadata": {},
   "source": [
    "From the above distribution plot we can clearly observe that there is a significant improvement in bookings in 2019(1) compared with 2018(0). But this column represents year value for new we will keep this column for our analysis."
   ]
  },
  {
   "cell_type": "markdown",
   "id": "49c9bb5d",
   "metadata": {},
   "source": [
    "### mnth:\n",
    "This column represents month of the year when booking happend."
   ]
  },
  {
   "cell_type": "code",
   "execution_count": 14,
   "id": "07a43bf7",
   "metadata": {},
   "outputs": [
    {
     "data": {
      "image/png": "[encoded data removed]",
      "text/plain": [
       "<Figure size 640x480 with 1 Axes>"
      ]
     },
     "metadata": {},
     "output_type": "display_data"
    }
   ],
   "source": [
    "pt_month = pd.pivot_table(df_sharing, values='cnt', index='mnth', columns='yr', aggfunc='mean')\n",
    "pt_month.plot(kind='bar', rot=45,  ylabel='cnt', title=\"Bookings vs day of month\")\n",
    "plt.show()"
   ]
  },
  {
   "cell_type": "markdown",
   "id": "608dcc9e",
   "metadata": {},
   "source": [
    "From the above plot, most number of bookings are happend in September-2019 and June-2018 , and there is significant relation between month of the year and bookings. Also we can make one derived metric from month column as <b>quarter</b> of the year for analysis."
   ]
  },
  {
   "cell_type": "code",
   "execution_count": 15,
   "id": "927fe72e",
   "metadata": {},
   "outputs": [
    {
     "data": {
      "image/png": "[encoded data removed]",
      "text/plain": [
       "<Figure size 640x480 with 1 Axes>"
      ]
     },
     "metadata": {},
     "output_type": "display_data"
    }
   ],
   "source": [
    "df_sharing['quarter'] = df_sharing.mnth.apply(lambda x:np.ceil(x/3))\n",
    "pt_month = pd.pivot_table(df_sharing, values='cnt', index='quarter', columns='yr', aggfunc='mean')\n",
    "pt_month.plot(kind='bar', rot=45,  ylabel='cnt', title=\"Bookings vs day of month\")\n",
    "plt.show()"
   ]
  },
  {
   "cell_type": "markdown",
   "id": "bc7c18ff",
   "metadata": {},
   "source": [
    "### holiday:\n",
    "This column represents whether booking is on holiday(1) or not(0)"
   ]
  },
  {
   "cell_type": "code",
   "execution_count": 16,
   "id": "75c3310c",
   "metadata": {
    "scrolled": true
   },
   "outputs": [
    {
     "data": {
      "image/png": "[encoded data removed]",
      "text/plain": [
       "<Figure size 640x480 with 1 Axes>"
      ]
     },
     "metadata": {},
     "output_type": "display_data"
    }
   ],
   "source": [
    "pt_month = pd.pivot_table(df_sharing, values='cnt', index='holiday', columns='yr', aggfunc='mean')\n",
    "pt_month.plot(kind='bar',  ylabel='cnt', title=\"Bookings vs Holiday\")\n",
    "plt.show()"
   ]
  },
  {
   "cell_type": "markdown",
   "id": "a5b13715",
   "metadata": {},
   "source": [
    "From the abobe plot we can observ that most of the bookings happend in working day. So Bike-sharing might be mostly used by employees."
   ]
  },
  {
   "cell_type": "markdown",
   "id": "af844082",
   "metadata": {},
   "source": [
    "### weekday:\n",
    "This column represents day of the week when booking happend."
   ]
  },
  {
   "cell_type": "code",
   "execution_count": 17,
   "id": "0d683eab",
   "metadata": {},
   "outputs": [
    {
     "data": {
      "image/png": "[encoded data removed]",
      "text/plain": [
       "<Figure size 640x480 with 1 Axes>"
      ]
     },
     "metadata": {},
     "output_type": "display_data"
    }
   ],
   "source": [
    "pt_weekday = pd.pivot_table(df_sharing, values='cnt', index='weekday', columns='yr', aggfunc='mean')\n",
    "pt_weekday.plot(kind='bar',  ylabel='cnt', title=\"Bookings vs Weekday\")\n",
    "plt.show()"
   ]
  },
  {
   "cell_type": "markdown",
   "id": "495b789c",
   "metadata": {},
   "source": [
    "The variable 'weekday' shows that \n",
    " - Target varibale 'cnt' in increasing from day 0 to 4 and decreasing from day-4 to day-6 in year 2019.\n",
    " - Target varibale 'cnt' in consistant in day-0, day-1, day-2, day-5, day-6, decreasing in  day-3, day-4 in year 2018."
   ]
  },
  {
   "cell_type": "markdown",
   "id": "d70aa7c8",
   "metadata": {},
   "source": [
    "### workingday:\n",
    "This column describes if day is neither weekend nor holiday is 1, otherwise is 0."
   ]
  },
  {
   "cell_type": "code",
   "execution_count": 18,
   "id": "d4105424",
   "metadata": {},
   "outputs": [
    {
     "data": {
      "image/png": "[encoded data removed]",
      "text/plain": [
       "<Figure size 640x480 with 1 Axes>"
      ]
     },
     "metadata": {},
     "output_type": "display_data"
    }
   ],
   "source": [
    "pt_workingday = pd.pivot_table(df_sharing, values='cnt', index='workingday', columns='yr', aggfunc='mean')\n",
    "pt_workingday.plot(kind='bar',  ylabel='cnt', title=\"Bookings vs Workingday\")\n",
    "plt.show()"
   ]
  },
  {
   "cell_type": "markdown",
   "id": "af33f75d",
   "metadata": {},
   "source": [
    "From the above plot we can observe that there is a increase in bookings on working day compared to non-workingday."
   ]
  },
  {
   "cell_type": "markdown",
   "id": "15abd25e",
   "metadata": {},
   "source": [
    "### weathersit:\n",
    "As per data dictionary this column represents weather condition as follows.<br>\n",
    " 1: Clear, Few clouds, Partly cloudy, Partly cloudy <br>\n",
    " 2: Mist + Cloudy, Mist + Broken clouds, Mist + Few clouds, Mist<br>\n",
    " 3: Light Snow, Light Rain + Thunderstorm + Scattered clouds, Light Rain + Scattered clouds<br>\n",
    " 4: Heavy Rain + Ice Pallets + Thunderstorm + Mist, Snow + Fog<br>\n",
    " \n",
    "The weather conditions labelled with each catagory are indipendent in nature, so we sould make <b>dummy varibales</b> from each weather condition from above list as follows.\n",
    "But there is no value of <b>weathersit==4</b> so we can skip this catagory from list."
   ]
  },
  {
   "cell_type": "code",
   "execution_count": 19,
   "id": "72fa7793",
   "metadata": {},
   "outputs": [
    {
     "data": {
      "text/plain": [
       "{1, 2, 3}"
      ]
     },
     "execution_count": 19,
     "metadata": {},
     "output_type": "execute_result"
    }
   ],
   "source": [
    "set(df_sharing['weathersit'])"
   ]
  },
  {
   "cell_type": "code",
   "execution_count": 20,
   "id": "61323c4a",
   "metadata": {},
   "outputs": [
    {
     "data": {
      "text/plain": [
       "['Partly cloudy',\n",
       " 'Scattered clouds',\n",
       " 'Light Rain',\n",
       " 'Mist',\n",
       " 'Clear',\n",
       " 'Thunderstorm',\n",
       " 'Cloudy',\n",
       " 'Light Snow',\n",
       " 'Few clouds',\n",
       " 'Broken clouds']"
      ]
     },
     "execution_count": 20,
     "metadata": {},
     "output_type": "execute_result"
    }
   ],
   "source": [
    "# list all unique weather states.\n",
    "weather_state = {1: ['Clear', 'Few clouds', 'Partly cloudy'],\n",
    "                 2: [ 'Cloudy', 'Mist' , 'Broken clouds', 'Few clouds'],\n",
    "                 3: ['Light Snow','Thunderstorm','Scattered clouds', 'Light Rain'],\n",
    "                 #4: ['Heavy Rain' ,'Ice Pallets' , 'Thunderstorm' , 'Mist', 'Snow', 'Fog'] # No value ==4 so skipping\n",
    "                }\n",
    "\n",
    "# Now make unique weather list\n",
    "weather_list = list(set(weather_state[1]+weather_state[2]+weather_state[3]))\n",
    "weather_list\n"
   ]
  },
  {
   "cell_type": "markdown",
   "id": "b628b589",
   "metadata": {},
   "source": [
    "create new columns with weather list in data (df_sharing) and set all weather state based on given 'weathersit' variable. \n",
    "And <b>drop 'weathersit'</b> variable from data/"
   ]
  },
  {
   "cell_type": "code",
   "execution_count": 21,
   "id": "0c91ca58",
   "metadata": {},
   "outputs": [
    {
     "data": {
      "text/html": [
       "<div>\n",
       "<style scoped>\n",
       "    .dataframe tbody tr th:only-of-type {\n",
       "        vertical-align: middle;\n",
       "    }\n",
       "\n",
       "    .dataframe tbody tr th {\n",
       "        vertical-align: top;\n",
       "    }\n",
       "\n",
       "    .dataframe thead th {\n",
       "        text-align: right;\n",
       "    }\n",
       "</style>\n",
       "<table border=\"1\" class=\"dataframe\">\n",
       "  <thead>\n",
       "    <tr style=\"text-align: right;\">\n",
       "      <th></th>\n",
       "      <th>yr</th>\n",
       "      <th>mnth</th>\n",
       "      <th>holiday</th>\n",
       "      <th>weekday</th>\n",
       "      <th>workingday</th>\n",
       "      <th>temp</th>\n",
       "      <th>atemp</th>\n",
       "      <th>hum</th>\n",
       "      <th>windspeed</th>\n",
       "      <th>cnt</th>\n",
       "      <th>...</th>\n",
       "      <th>Partly cloudy</th>\n",
       "      <th>Scattered clouds</th>\n",
       "      <th>Light Rain</th>\n",
       "      <th>Mist</th>\n",
       "      <th>Clear</th>\n",
       "      <th>Thunderstorm</th>\n",
       "      <th>Cloudy</th>\n",
       "      <th>Light Snow</th>\n",
       "      <th>Few clouds</th>\n",
       "      <th>Broken clouds</th>\n",
       "    </tr>\n",
       "  </thead>\n",
       "  <tbody>\n",
       "    <tr>\n",
       "      <th>0</th>\n",
       "      <td>0.0</td>\n",
       "      <td>1.0</td>\n",
       "      <td>0.0</td>\n",
       "      <td>6.0</td>\n",
       "      <td>0.0</td>\n",
       "      <td>14.110847</td>\n",
       "      <td>18.18125</td>\n",
       "      <td>80.5833</td>\n",
       "      <td>10.749882</td>\n",
       "      <td>985.0</td>\n",
       "      <td>...</td>\n",
       "      <td>0.0</td>\n",
       "      <td>0.0</td>\n",
       "      <td>0.0</td>\n",
       "      <td>1.0</td>\n",
       "      <td>0.0</td>\n",
       "      <td>0.0</td>\n",
       "      <td>1.0</td>\n",
       "      <td>0.0</td>\n",
       "      <td>1.0</td>\n",
       "      <td>1.0</td>\n",
       "    </tr>\n",
       "    <tr>\n",
       "      <th>1</th>\n",
       "      <td>0.0</td>\n",
       "      <td>1.0</td>\n",
       "      <td>0.0</td>\n",
       "      <td>0.0</td>\n",
       "      <td>0.0</td>\n",
       "      <td>14.902598</td>\n",
       "      <td>17.68695</td>\n",
       "      <td>69.6087</td>\n",
       "      <td>16.652113</td>\n",
       "      <td>801.0</td>\n",
       "      <td>...</td>\n",
       "      <td>0.0</td>\n",
       "      <td>0.0</td>\n",
       "      <td>0.0</td>\n",
       "      <td>1.0</td>\n",
       "      <td>0.0</td>\n",
       "      <td>0.0</td>\n",
       "      <td>1.0</td>\n",
       "      <td>0.0</td>\n",
       "      <td>1.0</td>\n",
       "      <td>1.0</td>\n",
       "    </tr>\n",
       "    <tr>\n",
       "      <th>2</th>\n",
       "      <td>0.0</td>\n",
       "      <td>1.0</td>\n",
       "      <td>0.0</td>\n",
       "      <td>1.0</td>\n",
       "      <td>1.0</td>\n",
       "      <td>8.050924</td>\n",
       "      <td>9.47025</td>\n",
       "      <td>43.7273</td>\n",
       "      <td>16.636703</td>\n",
       "      <td>1349.0</td>\n",
       "      <td>...</td>\n",
       "      <td>1.0</td>\n",
       "      <td>0.0</td>\n",
       "      <td>0.0</td>\n",
       "      <td>0.0</td>\n",
       "      <td>1.0</td>\n",
       "      <td>0.0</td>\n",
       "      <td>0.0</td>\n",
       "      <td>0.0</td>\n",
       "      <td>1.0</td>\n",
       "      <td>0.0</td>\n",
       "    </tr>\n",
       "    <tr>\n",
       "      <th>3</th>\n",
       "      <td>0.0</td>\n",
       "      <td>1.0</td>\n",
       "      <td>0.0</td>\n",
       "      <td>2.0</td>\n",
       "      <td>1.0</td>\n",
       "      <td>8.200000</td>\n",
       "      <td>10.60610</td>\n",
       "      <td>59.0435</td>\n",
       "      <td>10.739832</td>\n",
       "      <td>1562.0</td>\n",
       "      <td>...</td>\n",
       "      <td>1.0</td>\n",
       "      <td>0.0</td>\n",
       "      <td>0.0</td>\n",
       "      <td>0.0</td>\n",
       "      <td>1.0</td>\n",
       "      <td>0.0</td>\n",
       "      <td>0.0</td>\n",
       "      <td>0.0</td>\n",
       "      <td>1.0</td>\n",
       "      <td>0.0</td>\n",
       "    </tr>\n",
       "    <tr>\n",
       "      <th>4</th>\n",
       "      <td>0.0</td>\n",
       "      <td>1.0</td>\n",
       "      <td>0.0</td>\n",
       "      <td>3.0</td>\n",
       "      <td>1.0</td>\n",
       "      <td>9.305237</td>\n",
       "      <td>11.46350</td>\n",
       "      <td>43.6957</td>\n",
       "      <td>12.522300</td>\n",
       "      <td>1600.0</td>\n",
       "      <td>...</td>\n",
       "      <td>1.0</td>\n",
       "      <td>0.0</td>\n",
       "      <td>0.0</td>\n",
       "      <td>0.0</td>\n",
       "      <td>1.0</td>\n",
       "      <td>0.0</td>\n",
       "      <td>0.0</td>\n",
       "      <td>0.0</td>\n",
       "      <td>1.0</td>\n",
       "      <td>0.0</td>\n",
       "    </tr>\n",
       "  </tbody>\n",
       "</table>\n",
       "<p>5 rows × 24 columns</p>\n",
       "</div>"
      ],
      "text/plain": [
       "    yr  mnth  holiday  weekday  workingday       temp     atemp      hum  \\\n",
       "0  0.0   1.0      0.0      6.0         0.0  14.110847  18.18125  80.5833   \n",
       "1  0.0   1.0      0.0      0.0         0.0  14.902598  17.68695  69.6087   \n",
       "2  0.0   1.0      0.0      1.0         1.0   8.050924   9.47025  43.7273   \n",
       "3  0.0   1.0      0.0      2.0         1.0   8.200000  10.60610  59.0435   \n",
       "4  0.0   1.0      0.0      3.0         1.0   9.305237  11.46350  43.6957   \n",
       "\n",
       "   windspeed     cnt  ...  Partly cloudy  Scattered clouds  Light Rain  Mist  \\\n",
       "0  10.749882   985.0  ...            0.0               0.0         0.0   1.0   \n",
       "1  16.652113   801.0  ...            0.0               0.0         0.0   1.0   \n",
       "2  16.636703  1349.0  ...            1.0               0.0         0.0   0.0   \n",
       "3  10.739832  1562.0  ...            1.0               0.0         0.0   0.0   \n",
       "4  12.522300  1600.0  ...            1.0               0.0         0.0   0.0   \n",
       "\n",
       "   Clear  Thunderstorm  Cloudy  Light Snow  Few clouds  Broken clouds  \n",
       "0    0.0           0.0     1.0         0.0         1.0            1.0  \n",
       "1    0.0           0.0     1.0         0.0         1.0            1.0  \n",
       "2    1.0           0.0     0.0         0.0         1.0            0.0  \n",
       "3    1.0           0.0     0.0         0.0         1.0            0.0  \n",
       "4    1.0           0.0     0.0         0.0         1.0            0.0  \n",
       "\n",
       "[5 rows x 24 columns]"
      ]
     },
     "execution_count": 21,
     "metadata": {},
     "output_type": "execute_result"
    }
   ],
   "source": [
    "def set_weather(x):\n",
    "    x[weather_state[x.weathersit]] = 1\n",
    "    return x\n",
    "df_sharing[weather_list] = 0\n",
    "df_sharing = df_sharing.apply(lambda x: set_weather(x), axis=1)\n",
    "df_sharing = df_sharing.drop('weathersit', axis=1)\n",
    "df_sharing.head()"
   ]
  },
  {
   "cell_type": "code",
   "execution_count": null,
   "id": "35c457ce",
   "metadata": {},
   "outputs": [],
   "source": [
    "plt.figure(figsize=(20, 12))\n",
    "for idx in range(0,len(weather_list)):\n",
    "    plt.subplot(2,5,idx+1)\n",
    "    sns.boxplot(x = weather_list[idx], y = 'cnt',hue='yr', data = df_sharing)\n",
    "    \n",
    "plt.show()"
   ]
  },
  {
   "cell_type": "markdown",
   "id": "936c2794",
   "metadata": {},
   "source": [
    "From the above plot we can observe that more number of the bookings happend when<br>\n",
    " - No-mist weather<br>\n",
    " - Clear weatrher<br>\n",
    " - No Broken clouds<br>\n",
    " - No light snow<br>\n",
    " - No scatter clouds<br>\n",
    " - Not cloudy<br>\n",
    " - No Thunderstrom<br>\n",
    " - No light rain<br>\n",
    " - Partly cloudy<br>\n",
    " - Few cloud<br>\n"
   ]
  },
  {
   "cell_type": "markdown",
   "id": "c7cf852f",
   "metadata": {},
   "source": [
    "### Univariate analysis on continuas variables:\n",
    "There are 4 continuas variables as follows.<br>\n",
    "- temp : temperature in Celsius<br>\n",
    "- atemp: feeling temperature in Celsius<br>\n",
    "- hum: humidity<br>\n",
    "- windspeed: wind speed<br>\n",
    "To analyze these data we can use pairplot with target variable as follows"
   ]
  },
  {
   "cell_type": "markdown",
   "id": "f370ef70",
   "metadata": {},
   "source": [
    "#### Dew Point Temperature:\n",
    "From the columns 'temp' and 'hum' we can make new derived metric named dew point, is the temperature the air needs to be cooled to in order to achieve a relative humidity (RH) of 100%. At this point the air cannot hold more water in the gas form. At a dew point temperature above 21C the body starts to experience discomfort.\n",
    "\n",
    "Ingeneral hummidity ranges from 45 and 55 and can be high as 80% in some regions. But there is a one value from data observed that hummidity ==0.0 at <b>index 68. so we can drop this row</b>."
   ]
  },
  {
   "cell_type": "code",
   "execution_count": null,
   "id": "925aa35e",
   "metadata": {},
   "outputs": [],
   "source": [
    "def get_dew_point_c(temp_c, humidity):\n",
    "    # Compute the dew point in degrees Celsius\n",
    "    alpha = ((17.27 * temp_c) / (237.7 + temp_c)) + math.log(humidity/100.0)\n",
    "    return (237.7 * alpha) / (17.27 - alpha)\n",
    "# Drop row where hummidity==0\n",
    "df_sharing = df_sharing[df_sharing.hum > 0.0]\n",
    "\n",
    "df_sharing['dpt'] = df_sharing.apply(lambda x: get_dew_point_c(x['temp'], x['hum']), axis=1)\n",
    "df_sharing.head()"
   ]
  },
  {
   "cell_type": "markdown",
   "id": "f3efcedd",
   "metadata": {},
   "source": [
    "#### Wind Chill Index:\n",
    "Another data driven metric from temperature and windspeed is Wind Chill Temperature(WCT). but these variable is as same as <b>atemp</b> feeling temperature in Celsius."
   ]
  },
  {
   "cell_type": "code",
   "execution_count": null,
   "id": "e15baeef",
   "metadata": {},
   "outputs": [],
   "source": [
    "sns.pairplot(df_sharing[['cnt', 'dpt','temp','atemp', 'hum','windspeed']])\n",
    "plt.show()"
   ]
  },
  {
   "cell_type": "markdown",
   "id": "b3c83434",
   "metadata": {},
   "source": [
    "<b>Observations from continuas variables</b><br>\n",
    " - There is a significant correlation between temperature and target variable.<br>\n",
    " - There is not much correlation between humidity and target variable.<br>\n",
    " - There is not much correlation between windspeed and target variable.<br>"
   ]
  },
  {
   "cell_type": "code",
   "execution_count": null,
   "id": "ea97432f",
   "metadata": {},
   "outputs": [],
   "source": [
    "plt.figure(figsize=(15, 10))\n",
    "sns.heatmap(df_sharing[['cnt','dpt','temp','atemp', 'hum','windspeed','spring','summer','winter','yr','mnth', 'holiday','weekday', 'workingday' ]].corr(), annot = True, cmap=\"YlGnBu\")"
   ]
  },
  {
   "cell_type": "markdown",
   "id": "dc2a0236",
   "metadata": {},
   "source": [
    "## Data split train-test:\n",
    "Up to now we have analyzed and filtered input data for understaning the relation between independent variables and target variavle. Now we can proceed for data seperation for training and testing model. as follows."
   ]
  },
  {
   "cell_type": "code",
   "execution_count": null,
   "id": "b88933cd",
   "metadata": {},
   "outputs": [],
   "source": [
    "np.random.seed(0)\n",
    "df_train, df_test = train_test_split(df_sharing, train_size = 0.7, test_size = 0.3, random_state = 100)"
   ]
  },
  {
   "cell_type": "markdown",
   "id": "87951667",
   "metadata": {},
   "source": [
    "## Scalliing train data.\n",
    "After splitting data to training and test sets, next step is to re-scale available data to normalize model output. Here we are using min-max scalling for out model devolopment as follows."
   ]
  },
  {
   "cell_type": "code",
   "execution_count": null,
   "id": "69becbe6",
   "metadata": {},
   "outputs": [],
   "source": [
    "df_sharing.columns"
   ]
  },
  {
   "cell_type": "code",
   "execution_count": null,
   "id": "2ad5d16c",
   "metadata": {},
   "outputs": [],
   "source": [
    "scaler = MinMaxScaler()\n",
    "variables_scalling = df_sharing.columns#['mnth','temp', 'weekday','atemp', 'hum', 'windspeed', 'cnt', 'quarter', 'dpt']\n",
    "df_train[variables_scalling] = scaler.fit_transform(df_train[variables_scalling])\n",
    "df_train[variables_scalling].describe()"
   ]
  },
  {
   "cell_type": "code",
   "execution_count": null,
   "id": "0e7b9268",
   "metadata": {},
   "outputs": [],
   "source": [
    "# Let's check the correlation to see which variables are highly correlated with target variable\n",
    "plt.figure(figsize = (4, 8))\n",
    "sns.heatmap(df_train.corr().loc[:,['cnt']], annot = True, cmap=\"YlGnBu\")\n",
    "plt.show()"
   ]
  },
  {
   "cell_type": "markdown",
   "id": "3fb61356",
   "metadata": {},
   "source": [
    "### Dividing into X and Y sets for the model building\n",
    "Next step is to seperate target variable and independent predictor variables as follows."
   ]
  },
  {
   "cell_type": "code",
   "execution_count": null,
   "id": "aec69e5c",
   "metadata": {},
   "outputs": [],
   "source": [
    "y_train = df_train.pop('cnt')\n",
    "X_train = df_train"
   ]
  },
  {
   "cell_type": "markdown",
   "id": "fcb765e9",
   "metadata": {},
   "source": [
    "## Feature selection:\n",
    "\n",
    "After preparation of input and output variables we need to select features to train the model.\n",
    "To do feature selection first we use automatic feature selection algorithm named <b>Recursive feature elimination</b> as follows."
   ]
  },
  {
   "cell_type": "code",
   "execution_count": null,
   "id": "a56c007c",
   "metadata": {},
   "outputs": [],
   "source": [
    "lm = LinearRegression()\n",
    "lm.fit(X_train, y_train)\n",
    "rfe = RFE(lm)\n",
    "rfe = rfe.fit(X_train, y_train)\n",
    "list(zip(X_train.columns,rfe.support_,rfe.ranking_))"
   ]
  },
  {
   "cell_type": "code",
   "execution_count": null,
   "id": "99d63542",
   "metadata": {},
   "outputs": [],
   "source": [
    "selected_features_rfe = X_train.columns[rfe.support_]\n",
    "selected_features_rfe"
   ]
  },
  {
   "cell_type": "markdown",
   "id": "e6a324d9",
   "metadata": {},
   "source": [
    "Outof 24 input features RFE has given rank 1 to 12 features. SO we will start model building using these selected features."
   ]
  },
  {
   "cell_type": "markdown",
   "id": "320780ab",
   "metadata": {},
   "source": [
    "##  Model training:"
   ]
  },
  {
   "cell_type": "code",
   "execution_count": null,
   "id": "e7c149bc",
   "metadata": {},
   "outputs": [],
   "source": [
    "# Function to compute Varience inflation factor\n",
    "def compute_vif(X_train):\n",
    "    vif = pd.DataFrame()\n",
    "    vif['Features'] = X_train.columns\n",
    "    vif['VIF'] = [variance_inflation_factor(X_train.values, i) for i in range(X_train.shape[1])]\n",
    "    vif['VIF'] = round(vif['VIF'], 2)\n",
    "    vif = vif.sort_values(by = \"VIF\", ascending = False)\n",
    "    return vif"
   ]
  },
  {
   "cell_type": "code",
   "execution_count": null,
   "id": "91ce9f16",
   "metadata": {},
   "outputs": [],
   "source": [
    "# Function to process Ordinary Least Squares regression and Variance Inflation Factor\n",
    "def train_model(X_train, y_train):\n",
    "    # Adding a constant variable \n",
    "    X_train_lm = sm.add_constant(X_train)\n",
    "    # Train model\n",
    "    lm_bike_sharing = sm.OLS(y_train,X_train_lm).fit()   # Running the linear model\n",
    "    # compute VIF for current X_train data\n",
    "    vif = compute_vif(X_train)\n",
    "    return lm_bike_sharing, vif"
   ]
  },
  {
   "cell_type": "markdown",
   "id": "bb35637c",
   "metadata": {},
   "source": [
    "#### Building model-V1:"
   ]
  },
  {
   "cell_type": "code",
   "execution_count": null,
   "id": "47ff13af",
   "metadata": {},
   "outputs": [],
   "source": [
    "lm_bike_sharing_v1, vif = train_model(X_train[selected_features_rfe], y_train)\n",
    "#Let's see the summary of our linear model\n",
    "print(lm_bike_sharing_v1.summary())\n",
    "print(vif)"
   ]
  },
  {
   "cell_type": "markdown",
   "id": "f6a6a0be",
   "metadata": {},
   "source": [
    "#### Dropping in-significant variable atemp:\n",
    "As per model summery we can observe that the <b>P</b> value and <b>VIF</b> for independent variable <b>atemp</b> are high compared with required range.\n",
    "So we can <b>drop 'atemp'</b> variable from the model devolopment and re-build model."
   ]
  },
  {
   "cell_type": "code",
   "execution_count": null,
   "id": "002590f1",
   "metadata": {},
   "outputs": [],
   "source": [
    "selected_features_rfe_v2 = selected_features_rfe.drop('atemp')"
   ]
  },
  {
   "cell_type": "markdown",
   "id": "8dfc1718",
   "metadata": {},
   "source": [
    "#### Re-building model-V2:"
   ]
  },
  {
   "cell_type": "code",
   "execution_count": null,
   "id": "373077eb",
   "metadata": {},
   "outputs": [],
   "source": [
    "lm_bike_sharing_v2, vif = train_model(X_train[selected_features_rfe_v2], y_train)\n",
    "#Let's see the summary of our linear model\n",
    "print(lm_bike_sharing_v2.summary())\n",
    "print(vif)"
   ]
  },
  {
   "cell_type": "markdown",
   "id": "73ed947c",
   "metadata": {},
   "source": [
    "#### Dropping in-significant variable dpt:\n",
    "As per model summery we can observe that the significance value <b>P</b> is high for <b>temp</b> but dropping 'temp' variable results in huge drop in R-squared value and as per initial analysis the variable 'temp' has significant correlation between target variable.\n",
    "The <b>VIF</b> for independent variable <b>dpt</b> is high and this variable is derived from temp.\n",
    "So we can <b>drop 'dpt'</b> variable from the model devolopment and re-build model."
   ]
  },
  {
   "cell_type": "code",
   "execution_count": null,
   "id": "b1ef017b",
   "metadata": {},
   "outputs": [],
   "source": [
    "selected_features_rfe_v3 = selected_features_rfe_v2.drop('dpt')"
   ]
  },
  {
   "cell_type": "markdown",
   "id": "33a0b3f5",
   "metadata": {},
   "source": [
    "#### Re-building model-V3:"
   ]
  },
  {
   "cell_type": "code",
   "execution_count": null,
   "id": "e8d813fa",
   "metadata": {},
   "outputs": [],
   "source": [
    "lm_bike_sharing_v3, vif = train_model(X_train[selected_features_rfe_v3], y_train)\n",
    "#Let's see the summary of our linear model\n",
    "print(lm_bike_sharing_v3.summary())\n",
    "print(vif)"
   ]
  },
  {
   "cell_type": "markdown",
   "id": "11932330",
   "metadata": {},
   "source": [
    "#### Dropping high VIF variable mnth:\n",
    "As per VIF summery we can observe that the <b>VIF</b> value for independent variable <b>mnth</b> is high compared with maximum range(5 -> 80% varience explained by independent variable).\n",
    "So we can <b>drop 'mnth'</b> variable from the model devolopment and re-build model."
   ]
  },
  {
   "cell_type": "code",
   "execution_count": null,
   "id": "df598524",
   "metadata": {},
   "outputs": [],
   "source": [
    "selected_features_rfe_v4 = selected_features_rfe_v3.drop('mnth')"
   ]
  },
  {
   "cell_type": "markdown",
   "id": "39e7929c",
   "metadata": {},
   "source": [
    "#### Re-building model-V4:"
   ]
  },
  {
   "cell_type": "code",
   "execution_count": null,
   "id": "14420593",
   "metadata": {},
   "outputs": [],
   "source": [
    "lm_bike_sharing_v4, vif = train_model(X_train[selected_features_rfe_v4], y_train)\n",
    "#Let's see the summary of our linear model\n",
    "print(lm_bike_sharing_v4.summary())\n",
    "print(vif)"
   ]
  },
  {
   "cell_type": "markdown",
   "id": "bb4180cb",
   "metadata": {},
   "source": [
    "#### Dropping high VIF variable hum:\n",
    "As per VIF summery we can observe that the <b>VIF</b> value for independent variable <b>temp</b> is high (>5 -> 80% varience explained by independent variable).\n",
    "But the variable temperature has significant correlation with target variable.\n",
    "So we will <b>drop 'hum'</b> variable from the model devolopment and re-build model."
   ]
  },
  {
   "cell_type": "code",
   "execution_count": null,
   "id": "51fe3156",
   "metadata": {},
   "outputs": [],
   "source": [
    "selected_features_rfe_v5 = selected_features_rfe_v4.drop('hum')"
   ]
  },
  {
   "cell_type": "markdown",
   "id": "c04022ae",
   "metadata": {},
   "source": [
    "#### Re-building model-V5:"
   ]
  },
  {
   "cell_type": "code",
   "execution_count": null,
   "id": "fb80a54f",
   "metadata": {},
   "outputs": [],
   "source": [
    "lm_bike_sharing_v5, vif = train_model(X_train[selected_features_rfe_v5], y_train)\n",
    "#Let's see the summary of our linear model\n",
    "print(lm_bike_sharing_v5.summary())\n",
    "print(vif)"
   ]
  },
  {
   "cell_type": "markdown",
   "id": "9b0530a6",
   "metadata": {},
   "source": [
    "#### Dropping high VIF variable quarter:\n",
    "As per VIF summery we can observe that the <b>VIF</b> value for independent variable <b>quarter</b> is high compared with maximum range(5 -> 80% varience explained by independent variable).\n",
    "So we can <b>drop 'quarter'</b> variable from the model devolopment and re-build model."
   ]
  },
  {
   "cell_type": "code",
   "execution_count": null,
   "id": "696cd547",
   "metadata": {},
   "outputs": [],
   "source": [
    "selected_features_rfe_v6 = selected_features_rfe_v5.drop('quarter')"
   ]
  },
  {
   "cell_type": "markdown",
   "id": "33969b27",
   "metadata": {},
   "source": [
    "#### Re-building model-V6:"
   ]
  },
  {
   "cell_type": "code",
   "execution_count": null,
   "id": "010d5978",
   "metadata": {},
   "outputs": [],
   "source": [
    "lm_bike_sharing_v6, vif = train_model(X_train[selected_features_rfe_v6], y_train)\n",
    "#Let's see the summary of our linear model\n",
    "print(lm_bike_sharing_v6.summary())\n",
    "print(vif)"
   ]
  },
  {
   "cell_type": "markdown",
   "id": "2d7e3a58",
   "metadata": {},
   "source": [
    "#### Adding key variables from initial analysis:"
   ]
  },
  {
   "cell_type": "markdown",
   "id": "2b9c1040",
   "metadata": {},
   "source": [
    "As per ranking given by RFE algorithm model devolopment started with features selected with rank '1'. Now we are going to tune model with high ranking features from RFE algorithm.\n",
    "Note that following features selected listed after multiple iterations."
   ]
  },
  {
   "cell_type": "code",
   "execution_count": null,
   "id": "6649b272",
   "metadata": {
    "scrolled": false
   },
   "outputs": [],
   "source": [
    "#X_train_rfe_v8 = pd.concat([X_train_rfe_v6, X_train[['weekday','Cloudy']]], axis = 1)\n",
    "selected_features_rfe_v7 = selected_features_rfe_v6.append(pd.Index(['summer','weekday','Cloudy']))\n",
    "lm_bike_sharing_v7, vif = train_model(X_train[selected_features_rfe_v7], y_train)\n",
    "#Let's see the summary of our linear model\n",
    "print(lm_bike_sharing_v7.summary())\n",
    "print(vif)"
   ]
  },
  {
   "cell_type": "markdown",
   "id": "6e12700b",
   "metadata": {},
   "source": [
    "## Residual Analysis of the train data:\n",
    "After sucessfull model build the nest step is to analyze and observe assumptions and residuals as follows.\n",
    "check if the error terms are normally distributed - major assumptions of linear regression"
   ]
  },
  {
   "cell_type": "code",
   "execution_count": null,
   "id": "525a086e",
   "metadata": {},
   "outputs": [],
   "source": [
    "# Assumption 1: error terms are narmally distributed\n",
    "X_train_lm = sm.add_constant(X_train[selected_features_rfe_v7])\n",
    "y_train_pred = lm_bike_sharing_v7.predict(X_train_lm)\n",
    "fig = plt.figure()\n",
    "sns.distplot((y_train - y_train_pred))\n",
    "fig.suptitle('Error Terms', fontsize = 20)                  # Plot heading \n",
    "plt.xlabel('Errors', fontsize = 18)\n"
   ]
  },
  {
   "cell_type": "code",
   "execution_count": null,
   "id": "8adca9c8",
   "metadata": {},
   "outputs": [],
   "source": [
    "# Assumption 2: Sum of error terms equal to '0'\n",
    "round((y_train - y_train_pred).sum(), 2)"
   ]
  },
  {
   "cell_type": "code",
   "execution_count": null,
   "id": "3c5cd450",
   "metadata": {},
   "outputs": [],
   "source": [
    "plt.figure(figsize=(15, 15))\n",
    "selected_variables = ['temp','windspeed','weekday','yr','spring','summer','winter','Cloudy','holiday','Light Snow']\n",
    "sns.scatterplot(data=X_train[selected_variables])\n",
    "sns.lineplot(y_train_pred)\n",
    "plt.legend(bbox_to_anchor=(1.02, 1), loc='upper left', borderaxespad=0)\n",
    "plt.title(\"Data points VS y-pred\")\n",
    "plt.show()\n"
   ]
  },
  {
   "cell_type": "markdown",
   "id": "5f257ee4",
   "metadata": {},
   "source": [
    "## Scalling test dataset:"
   ]
  },
  {
   "cell_type": "code",
   "execution_count": null,
   "id": "58beea90",
   "metadata": {},
   "outputs": [],
   "source": [
    "scalled_features = df_sharing.columns\n",
    "df_test[scalled_features] = scaler.transform(df_test[scalled_features])\n",
    "df_test.describe()"
   ]
  },
  {
   "cell_type": "markdown",
   "id": "0b702591",
   "metadata": {},
   "source": [
    "#### Dividing into X_test and y_test:"
   ]
  },
  {
   "cell_type": "code",
   "execution_count": null,
   "id": "304e3582",
   "metadata": {},
   "outputs": [],
   "source": [
    "y_test = df_test.pop('cnt')\n",
    "X_test = df_test[selected_features_rfe_v7]\n",
    "X_test.head()"
   ]
  },
  {
   "cell_type": "markdown",
   "id": "af319d59",
   "metadata": {},
   "source": [
    "## Prediction on test set:"
   ]
  },
  {
   "cell_type": "code",
   "execution_count": null,
   "id": "ed1562be",
   "metadata": {},
   "outputs": [],
   "source": [
    "# Adding constant variable to test dataframe\n",
    "X_test_lm = sm.add_constant(X_test)\n",
    "# Making predictions\n",
    "y_test_pred = lm_bike_sharing_v7.predict(X_test_lm)"
   ]
  },
  {
   "cell_type": "code",
   "execution_count": null,
   "id": "9edd1b46",
   "metadata": {},
   "outputs": [],
   "source": [
    "plt.figure(figsize=(15, 15))\n",
    "sns.scatterplot(data=X_test)\n",
    "sns.lineplot(y_test_pred)\n",
    "plt.legend(bbox_to_anchor=(1.02, 1), loc='upper left', borderaxespad=0)\n",
    "plt.title(\"Test Data points VS y-test-pred\")\n",
    "plt.show()"
   ]
  },
  {
   "cell_type": "markdown",
   "id": "6132b348",
   "metadata": {},
   "source": [
    "## Analyzing predictions:"
   ]
  },
  {
   "cell_type": "code",
   "execution_count": null,
   "id": "fe5e9199",
   "metadata": {},
   "outputs": [],
   "source": [
    "# Plotting y_test and y_pred to understand the spread.\n",
    "fig = plt.figure()\n",
    "sns.scatterplot(pd.concat([y_test,y_test_pred],axis=1))\n",
    "fig.suptitle('y_test vs y_test_pred', fontsize=10)              # Plot heading \n",
    "plt.xlabel('y_test', fontsize=6)                          # X-label\n",
    "plt.ylabel('y_test_pred', fontsize=6)                          # Y-label"
   ]
  },
  {
   "cell_type": "code",
   "execution_count": null,
   "id": "c575bac7",
   "metadata": {},
   "outputs": [],
   "source": [
    "print(\"R2 score on test data predictions: \", r2_score(y_test, y_test_pred))"
   ]
  },
  {
   "cell_type": "markdown",
   "id": "42ae8f6c",
   "metadata": {},
   "source": [
    "### Residual analysis on test data predictions:"
   ]
  },
  {
   "cell_type": "code",
   "execution_count": null,
   "id": "e59cbb11",
   "metadata": {},
   "outputs": [],
   "source": [
    "# Assumption: checking error terms are narmally distributed\n",
    "fig = plt.figure()\n",
    "sns.distplot((y_test - y_test_pred))\n",
    "fig.suptitle('Error Terms', fontsize = 10)                  # Plot heading \n",
    "plt.xlabel('Errors', fontsize = 6)"
   ]
  },
  {
   "cell_type": "markdown",
   "id": "61ef901e",
   "metadata": {},
   "source": [
    "### Observations from test data predictions:\n",
    " - R2-Score of test data predictions is 0.81 and train data is 0.825. So from the R2-score we can conclude that model is appropriatly fitting the data.\n",
    " - Error terms of test data predictions are normally distributed so simple linear regression assumptions are satisfiled.\n",
    " -"
   ]
  }
 ],
 "metadata": {
  "kernelspec": {
   "display_name": "Python 3 (ipykernel)",
   "language": "python",
   "name": "python3"
  },
  "language_info": {
   "codemirror_mode": {
    "name": "ipython",
    "version": 3
   },
   "file_extension": ".py",
   "mimetype": "text/x-python",
   "name": "python",
   "nbconvert_exporter": "python",
   "pygments_lexer": "ipython3",
   "version": "3.11.5"
  }
 },
 "nbformat": 4,
 "nbformat_minor": 5
}
